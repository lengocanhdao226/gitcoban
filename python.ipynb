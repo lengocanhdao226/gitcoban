{
  "nbformat": 4,
  "nbformat_minor": 0,
  "metadata": {
    "colab": {
      "name": "Untitled1.ipynb",
      "provenance": [],
      "collapsed_sections": [],
      "toc_visible": true,
      "mount_file_id": "1w2EbrBIz4YiZ3d8KsE7o98I4rovrnO0S",
      "authorship_tag": "ABX9TyPIzEVp+9qpaWzAmLNzmbVf",
      "include_colab_link": true
    },
    "kernelspec": {
      "name": "python3",
      "display_name": "Python 3"
    }
  },
  "cells": [
    {
      "cell_type": "markdown",
      "metadata": {
        "id": "view-in-github",
        "colab_type": "text"
      },
      "source": [
        "<a href=\"https://colab.research.google.com/github/lengocanhdao226/gitcoban/blob/master/python.ipynb\" target=\"_parent\"><img src=\"https://colab.research.google.com/assets/colab-badge.svg\" alt=\"Open In Colab\"/></a>"
      ]
    },
    {
      "cell_type": "code",
      "metadata": {
        "colab": {
          "base_uri": "https://localhost:8080/"
        },
        "id": "R28gnHqx3DHt",
        "outputId": "77eb0307-9ee5-472d-de25-4cf032ce657d"
      },
      "source": [
        "#Đọc dữ liệu từ file drive\r\n",
        "#Kết nối drive với colab\r\n",
        "#Sử dụng thư viện pandas để đọc dữ liệu từ file drive\r\n",
        "import pandas as pd\r\n",
        "d = pd.read_excel(r'/content/drive/MyDrive/Danh sách lớp DH/DHHTTT15A.xls')\r\n",
        "print(d)"
      ],
      "execution_count": 7,
      "outputs": [
        {
          "output_type": "stream",
          "text": [
            "                                                       ... Unnamed: 5\n",
            "0                                                 NaN  ...        NaN\n",
            "1   DANH SÁCH THU TIỀN ĐOÀN VÀ HỘI PHÍ \\n\\nNĂM HỌC...  ...        NaN\n",
            "2                                  NĂM HỌC: 2020-2021  ...        NaN\n",
            "3                                                 NaN  ...        NaN\n",
            "4                                            Lớp học:  ...        NaN\n",
            "..                                                ...  ...        ...\n",
            "67                                                 60  ...          x\n",
            "68                                                 61  ...          x\n",
            "69                                                 62  ...          x\n",
            "70                                                 63  ...          x\n",
            "71                                                 64  ...          x\n",
            "\n",
            "[72 rows x 6 columns]\n"
          ],
          "name": "stdout"
        }
      ]
    }
  ]
}